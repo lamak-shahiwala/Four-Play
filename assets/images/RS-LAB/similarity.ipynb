{
 "cells": [
  {
   "cell_type": "code",
   "execution_count": 1,
   "metadata": {},
   "outputs": [
    {
     "name": "stdout",
     "output_type": "stream",
     "text": [
      "Cosine_similarity\n",
      "[[1.         0.96976515 0.85813663 0.77384133]\n",
      " [0.96976515 1.         0.89288374 0.87177979]\n",
      " [0.85813663 0.89288374 1.         0.96396037]\n",
      " [0.77384133 0.87177979 0.96396037 1.        ]]\n",
      "Pearson Similarity\n",
      "User      User1     User2     User3     User4\n",
      "User                                         \n",
      "User1  1.000000  0.654654 -0.654654 -1.000000\n",
      "User2  0.654654  1.000000 -1.000000 -0.654654\n",
      "User3 -0.654654 -1.000000  1.000000  0.654654\n",
      "User4 -1.000000 -0.654654  0.654654  1.000000\n"
     ]
    }
   ],
   "source": [
    "import numpy as np\n",
    "import pandas as pd\n",
    "from sklearn.metrics.pairwise import cosine_similarity\n",
    "\n",
    "#Data\n",
    "data = {\n",
    "    'User': ['User1','User2','User3','User4'],\n",
    "    'Item1': [5,4,3,2],\n",
    "    'Item2': [4,5,2,3],\n",
    "    'Item3': [2,3,4,5]\n",
    "}\n",
    "\n",
    "#Create a Dataframe and set the index to 'User'\n",
    "df = pd.DataFrame(data).set_index('User')\n",
    "\n",
    "#Compute user similarity using cosine similarity\n",
    "user_similarity = cosine_similarity(df)\n",
    "\n",
    "print('Cosine_similarity')\n",
    "print(user_similarity)\n",
    "\n",
    "#Compute Pearson correlation coefficient matrix\n",
    "user_similarity_df = df.T.corr(method='pearson')\n",
    "\n",
    "print('Pearson Similarity')\n",
    "print(user_similarity_df)"
   ]
  },
  {
   "cell_type": "code",
   "execution_count": null,
   "metadata": {},
   "outputs": [],
   "source": []
  }
 ],
 "metadata": {
  "kernelspec": {
   "display_name": "Python 3 (ipykernel)",
   "language": "python",
   "name": "python3"
  },
  "language_info": {
   "codemirror_mode": {
    "name": "ipython",
    "version": 3
   },
   "file_extension": ".py",
   "mimetype": "text/x-python",
   "name": "python",
   "nbconvert_exporter": "python",
   "pygments_lexer": "ipython3",
   "version": "3.11.5"
  }
 },
 "nbformat": 4,
 "nbformat_minor": 4
}
