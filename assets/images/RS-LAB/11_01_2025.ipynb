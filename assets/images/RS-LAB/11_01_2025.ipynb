{
 "cells": [
  {
   "cell_type": "code",
   "execution_count": 22,
   "id": "d17eeb4b-352a-4ff5-a93f-378357af09eb",
   "metadata": {},
   "outputs": [
    {
     "name": "stdout",
     "output_type": "stream",
     "text": [
      "       Item1  Item2  Item3  Item4  Item5\n",
      "User                                    \n",
      "User1      5      3      4      4    0.0\n",
      "User2      3      1      2      3    3.0\n",
      "User3      4      3      4      3    5.0\n",
      "User4      3      3      1      5    4.0\n",
      "User5      1      5      5      2    1.0\n",
      "User      User1     User2     User3     User4     User5\n",
      "User                                                   \n",
      "User1  1.000000  0.826869  0.810163  0.762770  0.789542\n",
      "User2  0.826869  1.000000  0.959383  0.935693  0.637815\n",
      "User3  0.810163  0.959383  1.000000  0.894427  0.771517\n",
      "User4  0.762770  0.935693  0.894427  1.000000  0.638311\n",
      "User5  0.789542  0.637815  0.771517  0.638311  1.000000\n",
      "Recommendations for User1\n",
      "    Item  Prediction\n",
      "0  Item5    3.252093\n"
     ]
    }
   ],
   "source": [
    "import numpy as np\n",
    "import pandas  as pd\n",
    "from sklearn.metrics.pairwise import cosine_similarity\n",
    "\n",
    "data = {\n",
    "    'User': ['User1', 'User2', 'User3', 'User4', 'User5'],\n",
    "    'Item1': [5, 3, 4, 3, 1],\n",
    "    'Item2': [3, 1, 3, 3, 5],\n",
    "    'Item3': [4, 2, 4, 1, 5],\n",
    "    'Item4': [4, 3, 3, 5, 2],\n",
    "    'Item5': [np.NaN, 3, 5, 4, 1],\n",
    "    \n",
    "}\n",
    "\n",
    "df = pd.DataFrame(data).set_index('User')\n",
    "df2 = df.fillna(0)\n",
    "print(df2)\n",
    "user_similarity = cosine_similarity(df2)\n",
    "\n",
    "user_similarity_df = pd.DataFrame(user_similarity, index=df.index, columns=df.index)\n",
    "print(user_similarity_df)\n",
    "\n",
    "def predict_rating(user, item):\n",
    "    # Filter out NaN values from the user similarity and item ratings\n",
    "    similarity_scores = user_similarity_df[user]\n",
    "    item_ratings = df[item]\n",
    "\n",
    "    # Only consider non-NaN ratings\n",
    "    mask = item_ratings.notnull() & (similarity_scores > 0)\n",
    "    \n",
    "    similarity_scores = similarity_scores[mask].sort_values(ascending = False)\n",
    "    item_ratings = item_ratings.loc[similarity_scores.index]\n",
    "    \n",
    "\n",
    "    # If no valid similarity scores or item ratings exist, return 0\n",
    "    if similarity_scores.empty or item_ratings.empty:\n",
    "        return 0\n",
    "\n",
    "    # Compute the weighted prediction\n",
    "    numerator = np.sum(similarity_scores * item_ratings)\n",
    "    \n",
    "    denominator = np.sum(np.abs(similarity_scores))\n",
    "\n",
    "    if denominator == 0:\n",
    "        return 0\n",
    "    return numerator / denominator\n",
    "    \n",
    "def recommended_items(user):\n",
    "    unrated_items = df.columns[pd.isna(df.loc[user])]\n",
    "    predictions = [predict_rating(user,item) for item in unrated_items]\n",
    "    recommendations = pd.DataFrame({'Item' : unrated_items, 'Prediction' : predictions})\n",
    "    return recommendations.sort_values(by = 'Prediction', ascending = False)\n",
    "\n",
    "\n",
    "user_to_recommend = 'User1'\n",
    "recommendations = recommended_items(user_to_recommend)\n",
    "print(f\"Recommendations for {user_to_recommend}\")\n",
    "print(recommendations)"
   ]
  },
  {
   "cell_type": "code",
   "execution_count": null,
   "id": "2f4c3f4d-1c95-4100-a708-03509c7903ef",
   "metadata": {},
   "outputs": [],
   "source": []
  }
 ],
 "metadata": {
  "kernelspec": {
   "display_name": "Python 3 (ipykernel)",
   "language": "python",
   "name": "python3"
  },
  "language_info": {
   "codemirror_mode": {
    "name": "ipython",
    "version": 3
   },
   "file_extension": ".py",
   "mimetype": "text/x-python",
   "name": "python",
   "nbconvert_exporter": "python",
   "pygments_lexer": "ipython3",
   "version": "3.11.5"
  }
 },
 "nbformat": 4,
 "nbformat_minor": 5
}
