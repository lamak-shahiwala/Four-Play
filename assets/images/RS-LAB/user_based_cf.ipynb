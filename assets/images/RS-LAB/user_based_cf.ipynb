{
 "cells": [
  {
   "cell_type": "code",
   "execution_count": null,
   "metadata": {
    "colab": {
     "base_uri": "https://localhost:8080/"
    },
    "id": "5lE7FmqzDGMz",
    "outputId": "894fd152-8aca-474a-daeb-e1a5af91442d"
   },
   "outputs": [
    {
     "name": "stdout",
     "output_type": "stream",
     "text": [
      "user_similarity mean User      User1     User2     User3     User4     user5\n",
      "User                                                   \n",
      "User1  1.000000 -1.000000  0.973729 -0.848528  0.478091\n",
      "User2 -1.000000  1.000000 -1.000000  0.693375 -0.239046\n",
      "User3  0.973729 -1.000000  1.000000 -1.000000  1.000000\n",
      "User4 -0.848528  0.693375 -1.000000  1.000000 -0.748331\n",
      "user5  0.478091 -0.239046  1.000000 -0.748331  1.000000\n",
      "Recommendations for User2:\n",
      "    Item  Prediction\n",
      "1  Item4         5.2\n",
      "0  Item2         3.2\n"
     ]
    }
   ],
   "source": [
    "import numpy as np\n",
    "import pandas as pd\n",
    "from sklearn.metrics.pairwise import cosine_similarity\n",
    "\n",
    "data = {\n",
    "    'User': ['User1', 'User2', 'User3', 'User4', 'user5'],\n",
    "    'Item1': [5, 4, np.nan, 7, 1],\n",
    "    'Item2': [6, np.nan, 3, 4, np.nan],\n",
    "    'Item3': [7, 3, 4, 3, 3],\n",
    "    'Item4': [4, np.nan, 1, 6, 2],\n",
    "    'Item5': [3, 5, 1, np.nan, 2],\n",
    "    'Item6': [np.nan, 4, np.nan, 4, 5],\n",
    "}\n",
    "\n",
    "df = pd.DataFrame(data).set_index('User')\n",
    "#user_similarity = df.T.corr(method='pearson')  # Pearson correlation\n",
    "#print(user_similarity)\n",
    "\n",
    "\n",
    "# Mean-center the ratings\n",
    "mean_ratings = df.mean(axis=1)  # Calculate the mean rating for each user\n",
    "mean_centered_df = df.sub(mean_ratings, axis=0)  # Subtract mean ratings from the original ratings\n",
    "\n",
    "# Compute user similarity using mean-centered ratings\n",
    "user_similarity = mean_centered_df.T.corr(method='pearson')\n",
    "print(\"user_similarity mean\",user_similarity)\n",
    "user_similarity_df = pd.DataFrame(user_similarity, index=df.index, columns=df.index)\n",
    "\n",
    "def predict_rating(user, item):\n",
    "    # Filter out NaN values from the user similarity and item ratings\n",
    "    similarity_scores = user_similarity_df[user]\n",
    "\n",
    "    item_ratings = mean_centered_df[item]\n",
    "\n",
    "\n",
    "    # Only consider non-NaN ratings\n",
    "    mask = ~item_ratings.isna()& (similarity_scores >= 0)\n",
    "    similarity_scores = similarity_scores[mask]\n",
    "\n",
    "    item_ratings = item_ratings[mask]\n",
    "\n",
    "\n",
    "    if similarity_scores.empty or item_ratings.empty:\n",
    "        return 0  # Return 0 if no relevant data for prediction\n",
    "\n",
    "    numerator = np.sum(similarity_scores * item_ratings)\n",
    "\n",
    "    denominator = np.sum(np.abs(similarity_scores))\n",
    "\n",
    "\n",
    "    if denominator == 0:\n",
    "        return 0\n",
    "    return mean_ratings[user]+numerator / denominator\n",
    "\n",
    "def recommend_items(user):\n",
    "    unrated_items = df.columns[pd.isna(df.loc[user])]  # Items that the user hasn't rated\n",
    "    predictions = [predict_rating(user, item) for item in unrated_items]\n",
    "    recommendations = pd.DataFrame({'Item': unrated_items, 'Prediction': predictions})\n",
    "    return recommendations.sort_values(by='Prediction', ascending=False)\n",
    "\n",
    "user_to_recommend = 'User2'\n",
    "recommendations = recommend_items(user_to_recommend)\n",
    "print(f\"Recommendations for {user_to_recommend}:\")\n",
    "print(recommendations)"
   ]
  },
  {
   "cell_type": "code",
   "execution_count": null,
   "metadata": {
    "id": "wmGw9a-2QkhW"
   },
   "outputs": [],
   "source": []
  }
 ],
 "metadata": {
  "colab": {
   "provenance": []
  },
  "kernelspec": {
   "display_name": "Python 3 (ipykernel)",
   "language": "python",
   "name": "python3"
  },
  "language_info": {
   "codemirror_mode": {
    "name": "ipython",
    "version": 3
   },
   "file_extension": ".py",
   "mimetype": "text/x-python",
   "name": "python",
   "nbconvert_exporter": "python",
   "pygments_lexer": "ipython3",
   "version": "3.11.5"
  }
 },
 "nbformat": 4,
 "nbformat_minor": 4
}
